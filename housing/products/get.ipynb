{
 "cells": [
  {
   "cell_type": "code",
   "execution_count": 1,
   "id": "5fcd09bf",
   "metadata": {
    "execution": {
     "iopub.execute_input": "2022-11-05T03:13:14.132089Z",
     "iopub.status.busy": "2022-11-05T03:13:14.131088Z",
     "iopub.status.idle": "2022-11-05T03:13:14.137091Z",
     "shell.execute_reply": "2022-11-05T03:13:14.137091Z"
    },
    "lines_to_next_cell": 2,
    "papermill": {
     "duration": 0.014002,
     "end_time": "2022-11-05T03:13:14.140090",
     "exception": false,
     "start_time": "2022-11-05T03:13:14.126088",
     "status": "completed"
    },
    "tags": []
   },
   "outputs": [],
   "source": [
    "# Add description here\n",
    "#\n",
    "# *Note:* You can open this file as a notebook (JupyterLab: right-click on it in the side bar -> Open With -> Notebook)"
   ]
  },
  {
   "cell_type": "code",
   "execution_count": 2,
   "id": "e8a19f6d",
   "metadata": {
    "execution": {
     "iopub.execute_input": "2022-11-05T03:13:14.149603Z",
     "iopub.status.busy": "2022-11-05T03:13:14.148603Z",
     "iopub.status.idle": "2022-11-05T03:13:14.154599Z",
     "shell.execute_reply": "2022-11-05T03:13:14.154599Z"
    },
    "papermill": {
     "duration": 0.01351,
     "end_time": "2022-11-05T03:13:14.156601",
     "exception": false,
     "start_time": "2022-11-05T03:13:14.143091",
     "status": "completed"
    },
    "tags": []
   },
   "outputs": [],
   "source": [
    "# Uncomment the next two lines to enable auto reloading for imported modules\n",
    "# %load_ext autoreload\n",
    "# %autoreload 2\n",
    "# For more info, see:\n",
    "# https://docs.ploomber.io/en/latest/user-guide/faq_index.html#auto-reloading-code-in-jupyter"
   ]
  },
  {
   "cell_type": "code",
   "execution_count": 3,
   "id": "85b27093",
   "metadata": {
    "execution": {
     "iopub.execute_input": "2022-11-05T03:13:14.163602Z",
     "iopub.status.busy": "2022-11-05T03:13:14.162602Z",
     "iopub.status.idle": "2022-11-05T03:13:14.171603Z",
     "shell.execute_reply": "2022-11-05T03:13:14.171603Z"
    },
    "lines_to_next_cell": 2,
    "papermill": {
     "duration": 0.015005,
     "end_time": "2022-11-05T03:13:14.173605",
     "exception": false,
     "start_time": "2022-11-05T03:13:14.158600",
     "status": "completed"
    },
    "tags": [
     "parameters"
    ]
   },
   "outputs": [],
   "source": [
    "# If this task has dependencies, list them them here\n",
    "# (e.g. upstream = ['some_task']), otherwise leave as None.\n",
    "upstream = None\n",
    "\n",
    "# This is a placeholder, leave it as None\n",
    "product = None"
   ]
  },
  {
   "cell_type": "code",
   "execution_count": 4,
   "id": "76c6c916",
   "metadata": {
    "execution": {
     "iopub.execute_input": "2022-11-05T03:13:14.186392Z",
     "iopub.status.busy": "2022-11-05T03:13:14.186392Z",
     "iopub.status.idle": "2022-11-05T03:13:14.193391Z",
     "shell.execute_reply": "2022-11-05T03:13:14.192390Z"
    },
    "papermill": {
     "duration": 0.016293,
     "end_time": "2022-11-05T03:13:14.194896",
     "exception": false,
     "start_time": "2022-11-05T03:13:14.178603",
     "status": "completed"
    },
    "tags": [
     "injected-parameters"
    ]
   },
   "outputs": [],
   "source": [
    "# Parameters\n",
    "product = {\n",
    "    \"nb\": \"C:\\\\Users\\\\marcu\\\\OneDrive\\\\Desktop\\\\Projects\\\\orlando-housing\\\\orlando-housing-1\\\\orlando-housing\\\\housing\\\\products\\\\get.ipynb\",\n",
    "    \"data\": \"C:\\\\Users\\\\marcu\\\\OneDrive\\\\Desktop\\\\Projects\\\\orlando-housing\\\\orlando-housing-1\\\\orlando-housing\\\\housing\\\\products\\\\get.csv\",\n",
    "}\n"
   ]
  },
  {
   "cell_type": "code",
   "execution_count": 5,
   "id": "04626ce6",
   "metadata": {
    "execution": {
     "iopub.execute_input": "2022-11-05T03:13:14.205902Z",
     "iopub.status.busy": "2022-11-05T03:13:14.204904Z",
     "iopub.status.idle": "2022-11-05T03:13:23.837483Z",
     "shell.execute_reply": "2022-11-05T03:13:23.836483Z"
    },
    "papermill": {
     "duration": 9.641485,
     "end_time": "2022-11-05T03:13:23.840480",
     "exception": false,
     "start_time": "2022-11-05T03:13:14.198995",
     "status": "completed"
    },
    "tags": []
   },
   "outputs": [],
   "source": [
    "from matplotlib.dviread import Page\n",
    "import requests\n",
    "from bs4 import BeautifulSoup\n",
    "import pandas as pd\n",
    "from csv import writer\n",
    "\n",
    "url = \"https://api.webscrapingapi.com/v1\"\n",
    "params = {\n",
    " \"api_key\": \"WN5PAncn1XB2mzveYazxnJpsoIAq8KB8\",\n",
    " \"url\": \"https://www.realtor.com/realestateandhomes-search/Orlando_FL\"\n",
    "}\n",
    "\n",
    "response = requests.request(\"GET\", url, params=params)\n",
    "content = response.text\n",
    "soup = BeautifulSoup(response.content, 'html.parser')\n",
    "\n",
    "lists = soup.find_all('div', class_=\"jsx-11645185 summary-wrap\")\n",
    "with open('housing.csv', 'w', encoding='utf8', newline='') as f:\n",
    "    thewriter = writer(f)\n",
    "    header = ['Price', 'Beds', 'Baths','Sqft']\n",
    "    thewriter.writerow(header)\n",
    "\n",
    "    for list in lists:\n",
    "        price = list.find('span', attrs={'data-label': 'pc-price'}).text.replace('\\n', '')\n",
    "        beds = list.find('li', attrs={'data-label': 'pc-meta-beds'}).text.replace('\\n', '')\n",
    "        baths = list.find('li', attrs={'data-label': 'pc-meta-baths'}).text.replace('\\n', '')\n",
    "        sqft = list.find('li', attrs={'data-label': 'pc-meta-sqft'}).text.replace('\\n', '')\n",
    "\n",
    "        info = [price, beds, baths,sqft]\n",
    "        thewriter.writerow(info)\n",
    "        \n",
    "df = pd.read_csv('housing.csv')\n",
    "df.to_csv(product['data'], index=False)"
   ]
  },
  {
   "cell_type": "code",
   "execution_count": null,
   "id": "68c8a087",
   "metadata": {
    "papermill": {
     "duration": 0.006516,
     "end_time": "2022-11-05T03:13:23.851997",
     "exception": false,
     "start_time": "2022-11-05T03:13:23.845481",
     "status": "completed"
    },
    "tags": []
   },
   "outputs": [],
   "source": []
  }
 ],
 "metadata": {
  "jupytext": {
   "text_representation": {
    "extension": ".py",
    "format_name": "percent",
    "format_version": "1.3",
    "jupytext_version": "1.14.0"
   }
  },
  "kernelspec": {
   "display_name": "Python 3 (ipykernel)",
   "language": "python",
   "name": "python3"
  },
  "language_info": {
   "codemirror_mode": {
    "name": "ipython",
    "version": 3
   },
   "file_extension": ".py",
   "mimetype": "text/x-python",
   "name": "python",
   "nbconvert_exporter": "python",
   "pygments_lexer": "ipython3",
   "version": "3.9.12"
  },
  "papermill": {
   "duration": 14.91259,
   "end_time": "2022-11-05T03:13:24.285221",
   "exception": null,
   "input_path": "C:\\Users\\marcu\\AppData\\Local\\Temp\\tmpb5gzjdm0.ipynb",
   "output_path": "C:\\Users\\marcu\\OneDrive\\Desktop\\Projects\\orlando-housing\\orlando-housing-1\\orlando-housing\\housing\\products\\get.ipynb",
   "parameters": {
    "product": {
     "data": "C:\\Users\\marcu\\OneDrive\\Desktop\\Projects\\orlando-housing\\orlando-housing-1\\orlando-housing\\housing\\products\\get.csv",
     "nb": "C:\\Users\\marcu\\OneDrive\\Desktop\\Projects\\orlando-housing\\orlando-housing-1\\orlando-housing\\housing\\products\\get.ipynb"
    }
   },
   "start_time": "2022-11-05T03:13:09.372631"
  }
 },
 "nbformat": 4,
 "nbformat_minor": 5
}