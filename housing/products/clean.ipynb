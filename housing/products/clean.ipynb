{
 "cells": [
  {
   "cell_type": "code",
   "execution_count": 1,
   "id": "60e02660",
   "metadata": {
    "execution": {
     "iopub.execute_input": "2022-11-05T03:13:27.522668Z",
     "iopub.status.busy": "2022-11-05T03:13:27.521668Z",
     "iopub.status.idle": "2022-11-05T03:13:27.535669Z",
     "shell.execute_reply": "2022-11-05T03:13:27.533669Z"
    },
    "lines_to_next_cell": 2,
    "papermill": {
     "duration": 0.030013,
     "end_time": "2022-11-05T03:13:27.540681",
     "exception": false,
     "start_time": "2022-11-05T03:13:27.510668",
     "status": "completed"
    },
    "tags": []
   },
   "outputs": [],
   "source": [
    "# Add description here\n",
    "#\n",
    "# *Note:* You can open this file as a notebook (JupyterLab: right-click on it in the side bar -> Open With -> Notebook)"
   ]
  },
  {
   "cell_type": "code",
   "execution_count": 2,
   "id": "79be057c",
   "metadata": {
    "execution": {
     "iopub.execute_input": "2022-11-05T03:13:27.571200Z",
     "iopub.status.busy": "2022-11-05T03:13:27.570200Z",
     "iopub.status.idle": "2022-11-05T03:13:27.579200Z",
     "shell.execute_reply": "2022-11-05T03:13:27.577199Z"
    },
    "papermill": {
     "duration": 0.028706,
     "end_time": "2022-11-05T03:13:27.584905",
     "exception": false,
     "start_time": "2022-11-05T03:13:27.556199",
     "status": "completed"
    },
    "tags": []
   },
   "outputs": [],
   "source": [
    "# Uncomment the next two lines to enable auto reloading for imported modules\n",
    "# %load_ext autoreload\n",
    "# %autoreload 2\n",
    "# For more info, see:\n",
    "# https://docs.ploomber.io/en/latest/user-guide/faq_index.html#auto-reloading-code-in-jupyter"
   ]
  },
  {
   "cell_type": "code",
   "execution_count": 3,
   "id": "2ebad001",
   "metadata": {
    "execution": {
     "iopub.execute_input": "2022-11-05T03:13:27.604424Z",
     "iopub.status.busy": "2022-11-05T03:13:27.602424Z",
     "iopub.status.idle": "2022-11-05T03:13:27.623424Z",
     "shell.execute_reply": "2022-11-05T03:13:27.621426Z"
    },
    "lines_to_next_cell": 2,
    "papermill": {
     "duration": 0.03852,
     "end_time": "2022-11-05T03:13:27.630423",
     "exception": false,
     "start_time": "2022-11-05T03:13:27.591903",
     "status": "completed"
    },
    "tags": [
     "parameters"
    ]
   },
   "outputs": [],
   "source": [
    "# If this task has dependencies, list them them here\n",
    "# (e.g. upstream = ['some_task']), otherwise leave as None.\n",
    "upstream = ['get']\n",
    "\n",
    "# This is a placeholder, leave it as None\n",
    "product = None"
   ]
  },
  {
   "cell_type": "code",
   "execution_count": 4,
   "id": "aed63125",
   "metadata": {
    "execution": {
     "iopub.execute_input": "2022-11-05T03:13:27.649435Z",
     "iopub.status.busy": "2022-11-05T03:13:27.648435Z",
     "iopub.status.idle": "2022-11-05T03:13:27.660954Z",
     "shell.execute_reply": "2022-11-05T03:13:27.658956Z"
    },
    "papermill": {
     "duration": 0.028534,
     "end_time": "2022-11-05T03:13:27.665958",
     "exception": false,
     "start_time": "2022-11-05T03:13:27.637424",
     "status": "completed"
    },
    "tags": [
     "injected-parameters"
    ]
   },
   "outputs": [],
   "source": [
    "# Parameters\n",
    "upstream = {\n",
    "    \"get\": {\n",
    "        \"nb\": \"C:\\\\Users\\\\marcu\\\\OneDrive\\\\Desktop\\\\Projects\\\\orlando-housing\\\\orlando-housing-1\\\\orlando-housing\\\\housing\\\\products\\\\get.ipynb\",\n",
    "        \"data\": \"C:\\\\Users\\\\marcu\\\\OneDrive\\\\Desktop\\\\Projects\\\\orlando-housing\\\\orlando-housing-1\\\\orlando-housing\\\\housing\\\\products\\\\get.csv\",\n",
    "    }\n",
    "}\n",
    "product = {\n",
    "    \"nb\": \"C:\\\\Users\\\\marcu\\\\OneDrive\\\\Desktop\\\\Projects\\\\orlando-housing\\\\orlando-housing-1\\\\orlando-housing\\\\housing\\\\products\\\\clean.ipynb\",\n",
    "    \"data\": \"C:\\\\Users\\\\marcu\\\\OneDrive\\\\Desktop\\\\Projects\\\\orlando-housing\\\\orlando-housing-1\\\\orlando-housing\\\\housing\\\\products\\\\clean.csv\",\n",
    "}\n"
   ]
  },
  {
   "cell_type": "code",
   "execution_count": 5,
   "id": "9e109fe9",
   "metadata": {
    "execution": {
     "iopub.execute_input": "2022-11-05T03:13:27.692955Z",
     "iopub.status.busy": "2022-11-05T03:13:27.691955Z",
     "iopub.status.idle": "2022-11-05T03:13:32.905738Z",
     "shell.execute_reply": "2022-11-05T03:13:32.904736Z"
    },
    "papermill": {
     "duration": 5.227783,
     "end_time": "2022-11-05T03:13:32.909739",
     "exception": false,
     "start_time": "2022-11-05T03:13:27.681956",
     "status": "completed"
    },
    "tags": []
   },
   "outputs": [],
   "source": [
    "#import some necessary librairies\n",
    "\n",
    "import pandas as pd # data processing, CSV file I/O (e.g. pd.read_csv)\n",
    "\n",
    "\n",
    "pd.set_option('display.float_format', lambda x: '{:.3f}'.format(x)) #Limiting floats output to 3 decimal points\n",
    "\n",
    "df = pd.read_csv(upstream['get']['data'])\n",
    "\n",
    "#Converting Price value into float datatype\n",
    "def clean_currency(x):\n",
    "    \"\"\" If the value is a string, then remove currency symbol and delimiters\n",
    "    otherwise, the value is numeric and can be converted\n",
    "    \"\"\"\n",
    "    if isinstance(x, str):\n",
    "        return(x.replace('$', '').replace(',', ''))\n",
    "    return(x)\n",
    "\n",
    "df['Price'] = df['Price'].apply(clean_currency).astype('float')\n",
    "\n",
    "#Converting Beds value into float datatype\n",
    "def clean_currency(x):\n",
    "    \"\"\" If the value is a string, then remove currency symbol and delimiters\n",
    "    otherwise, the value is numeric and can be converted\n",
    "    \"\"\"\n",
    "    if isinstance(x, str):\n",
    "        return(x.replace('bed', '').replace(',', ''))\n",
    "    return(x)\n",
    "\n",
    "df['Beds'] = df['Beds'].apply(clean_currency).astype('float')\n",
    "\n",
    "#Converting Baths value into float datatype\n",
    "def clean_currency(x):\n",
    "    \"\"\" If the value is a string, then remove currency symbol and delimiters\n",
    "    otherwise, the value is numeric and can be converted\n",
    "    \"\"\"\n",
    "    if isinstance(x, str):\n",
    "        return(x.replace('bath', '').replace(',', ''))\n",
    "    return(x)\n",
    "\n",
    "df['Baths'] = df['Baths'].apply(clean_currency).astype('float')\n",
    "\n",
    "#Converting Sqft value into float datatype\n",
    "def clean_currency(x):\n",
    "    \"\"\" If the value is a string, then remove currency symbol and delimiters\n",
    "    otherwise, the value is numeric and can be converted\n",
    "    \"\"\"\n",
    "    if isinstance(x, str):\n",
    "        return(x.replace('sqft', '').replace(',', ''))\n",
    "    return(x)\n",
    "\n",
    "df['Sqft'] = df['Sqft'].apply(clean_currency).astype('float')\n",
    "\n",
    "df.to_csv(product['data'], index=False)"
   ]
  },
  {
   "cell_type": "code",
   "execution_count": 6,
   "id": "89597721",
   "metadata": {
    "execution": {
     "iopub.execute_input": "2022-11-05T03:13:32.921737Z",
     "iopub.status.busy": "2022-11-05T03:13:32.921737Z",
     "iopub.status.idle": "2022-11-05T03:13:32.932740Z",
     "shell.execute_reply": "2022-11-05T03:13:32.930741Z"
    },
    "papermill": {
     "duration": 0.021998,
     "end_time": "2022-11-05T03:13:32.935737",
     "exception": false,
     "start_time": "2022-11-05T03:13:32.913739",
     "status": "completed"
    },
    "tags": []
   },
   "outputs": [],
   "source": [
    "df.to_csv(product['data'], index=False)"
   ]
  },
  {
   "cell_type": "code",
   "execution_count": null,
   "id": "10e45d1f",
   "metadata": {
    "papermill": {
     "duration": 0.005521,
     "end_time": "2022-11-05T03:13:32.956271",
     "exception": false,
     "start_time": "2022-11-05T03:13:32.950750",
     "status": "completed"
    },
    "tags": []
   },
   "outputs": [],
   "source": []
  }
 ],
 "metadata": {
  "jupytext": {
   "text_representation": {
    "extension": ".py",
    "format_name": "percent",
    "format_version": "1.3",
    "jupytext_version": "1.14.0"
   }
  },
  "kernelspec": {
   "display_name": "Python 3 (ipykernel)",
   "language": "python",
   "name": "python3"
  },
  "language_info": {
   "codemirror_mode": {
    "name": "ipython",
    "version": 3
   },
   "file_extension": ".py",
   "mimetype": "text/x-python",
   "name": "python",
   "nbconvert_exporter": "python",
   "pygments_lexer": "ipython3",
   "version": "3.9.12"
  },
  "papermill": {
   "duration": 9.176669,
   "end_time": "2022-11-05T03:13:33.508017",
   "exception": null,
   "input_path": "C:\\Users\\marcu\\AppData\\Local\\Temp\\tmpxrq60wej.ipynb",
   "output_path": "C:\\Users\\marcu\\OneDrive\\Desktop\\Projects\\orlando-housing\\orlando-housing-1\\orlando-housing\\housing\\products\\clean.ipynb",
   "parameters": {
    "product": {
     "data": "C:\\Users\\marcu\\OneDrive\\Desktop\\Projects\\orlando-housing\\orlando-housing-1\\orlando-housing\\housing\\products\\clean.csv",
     "nb": "C:\\Users\\marcu\\OneDrive\\Desktop\\Projects\\orlando-housing\\orlando-housing-1\\orlando-housing\\housing\\products\\clean.ipynb"
    },
    "upstream": {
     "get": {
      "data": "C:\\Users\\marcu\\OneDrive\\Desktop\\Projects\\orlando-housing\\orlando-housing-1\\orlando-housing\\housing\\products\\get.csv",
      "nb": "C:\\Users\\marcu\\OneDrive\\Desktop\\Projects\\orlando-housing\\orlando-housing-1\\orlando-housing\\housing\\products\\get.ipynb"
     }
    }
   },
   "start_time": "2022-11-05T03:13:24.331348"
  }
 },
 "nbformat": 4,
 "nbformat_minor": 5
}