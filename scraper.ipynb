{
 "cells": [
  {
   "cell_type": "code",
   "execution_count": 4,
   "metadata": {},
   "outputs": [
    {
     "name": "stderr",
     "output_type": "stream",
     "text": [
      "C:\\Users\\marcu\\AppData\\Local\\Temp\\ipykernel_25272\\3620752653.py:7: DeprecationWarning: executable_path has been deprecated, please pass in a Service object\n",
      "  driver = webdriver.Chrome('./chromedriver',options=options)\n"
     ]
    }
   ],
   "source": [
    "from selenium import webdriver\n",
    "from selenium.webdriver.common.keys import Keys\n",
    "import time\n",
    "\n",
    "options = webdriver.ChromeOptions()\n",
    "options.add_extension('zrealestate.crx')\n",
    "driver = webdriver.Chrome('./chromedriver',options=options)\n",
    "\n",
    "driver.get('https://www.zillow.com/homes/orlando_rb/?utm_medium=cpc&utm_source=google&utm_content=12364776953|113098067970|aud-455958732640:kwd-306148521350|602785351123|&semQue=null&gclid=Cj0KCQiA3eGfBhCeARIsACpJNU8Hl057qgcYMhHA_7Fne-xtcE3scbmHjBGOIvhokv9emg_WQr5LnmsaAo0NEALw_wcB')"
   ]
  },
  {
   "cell_type": "code",
   "execution_count": null,
   "metadata": {},
   "outputs": [],
   "source": []
  }
 ],
 "metadata": {
  "kernelspec": {
   "display_name": "Python 3",
   "language": "python",
   "name": "python3"
  },
  "language_info": {
   "codemirror_mode": {
    "name": "ipython",
    "version": 3
   },
   "file_extension": ".py",
   "mimetype": "text/x-python",
   "name": "python",
   "nbconvert_exporter": "python",
   "pygments_lexer": "ipython3",
   "version": "3.11.2"
  },
  "orig_nbformat": 4,
  "vscode": {
   "interpreter": {
    "hash": "0c22c514d6926e34034ee508189ad47e1f51d5d5c23c04d01405114307103dd5"
   }
  }
 },
 "nbformat": 4,
 "nbformat_minor": 2
}
